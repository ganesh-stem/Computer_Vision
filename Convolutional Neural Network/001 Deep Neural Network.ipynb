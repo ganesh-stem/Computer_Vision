{
 "cells": [
  {
   "cell_type": "markdown",
   "metadata": {},
   "source": [
    "# Deep Neural Network"
   ]
  },
  {
   "cell_type": "markdown",
   "metadata": {},
   "source": [
    "## Importing the Libraries"
   ]
  },
  {
   "cell_type": "code",
   "execution_count": 1,
   "metadata": {},
   "outputs": [
    {
     "name": "stderr",
     "output_type": "stream",
     "text": [
      "Using TensorFlow backend.\n"
     ]
    }
   ],
   "source": [
    "import numpy as np\n",
    "import matplotlib.pyplot as plt\n",
    "\n",
    "from keras.layers import Input, Flatten, Dense, Conv2D\n",
    "from keras.models import Model\n",
    "from keras.optimizers import Adam\n",
    "from keras.utils import to_categorical\n",
    "\n",
    "from keras.datasets import cifar10"
   ]
  },
  {
   "cell_type": "markdown",
   "metadata": {},
   "source": [
    "## Importing the Dataset"
   ]
  },
  {
   "cell_type": "code",
   "execution_count": 2,
   "metadata": {},
   "outputs": [],
   "source": [
    "NUM_CLASSES = 10"
   ]
  },
  {
   "cell_type": "code",
   "execution_count": 3,
   "metadata": {},
   "outputs": [
    {
     "name": "stdout",
     "output_type": "stream",
     "text": [
      "Downloading data from https://www.cs.toronto.edu/~kriz/cifar-10-python.tar.gz\n",
      "170500096/170498071 [==============================] - 1351s 8us/step\n"
     ]
    }
   ],
   "source": [
    "# collection of CIFAR-10 dataset, having 60,000 records\n",
    "(x_train, y_train), (x_test, y_test) = cifar10.load_data()"
   ]
  },
  {
   "cell_type": "code",
   "execution_count": 4,
   "metadata": {},
   "outputs": [],
   "source": [
    "# Each image data consists of pixels range between 0 and 255.\n",
    "# Neural network works best with input values range between -1 and 1.\n",
    "# Therefore diving each pixel value by 255 to normalize the values between -1 and 1.\n",
    "x_train = x_train.astype('float32') / 255.0\n",
    "x_test = x_test.astype('float32') / 255.0\n",
    "\n",
    "\n",
    "y_train = to_categorical(y_train, NUM_CLASSES)\n",
    "y_test = to_categorical(y_test, NUM_CLASSES)"
   ]
  },
  {
   "cell_type": "code",
   "execution_count": 5,
   "metadata": {},
   "outputs": [
    {
     "data": {
      "text/plain": [
       "0.36862746"
      ]
     },
     "execution_count": 5,
     "metadata": {},
     "output_type": "execute_result"
    }
   ],
   "source": [
    "# Value of the pixel at position x = 23 and y = 13 of image indexed 54.\n",
    "# Here 1 refers to the green channel among the RGB channels.\n",
    "x_train[54, 12, 13, 1]"
   ]
  },
  {
   "cell_type": "markdown",
   "metadata": {},
   "source": [
    "## Architecture of the Model"
   ]
  },
  {
   "cell_type": "code",
   "execution_count": 6,
   "metadata": {},
   "outputs": [],
   "source": [
    "# (32, 32, 3) here the image size is 32x32 and the number of channels in each image is 3 ( RGB channels)\n",
    "input_layer = Input((32,32,3))\n",
    "\n",
    "# flattening this input into a vector, using a Flatten layer. This will result a vector of length 3,072 (= 32 × 32 × 3)\n",
    "# dense layers take input as a vector instead of multidimensional array.\n",
    "x = Flatten()(input_layer)\n",
    "\n",
    "# first dense layer consists of 200 units (OR Nodes) that is connected with each and every units of the previous layer.\n",
    "# that means 200 units is connected with 3,072 units of flatten layer.\n",
    "# second dense layer consists of 150 units that is connected with each and every units of first dense layer.\n",
    "# here we use the Rectified Linear Units (ReLU) activation function.\n",
    "x = Dense(200, activation = 'relu')(x)\n",
    "x = Dense(150, activation = 'relu')(x)\n",
    "\n",
    "# output layer consists of 10 units.\n",
    "# here we use the softmax activation function whicch is more effective and efficient way to evaluate the result.\n",
    "output_layer = Dense(NUM_CLASSES, activation = 'softmax')(x)\n",
    "\n",
    "# preparing the mathematical model (OR deep learning model)\n",
    "model = Model(input_layer, output_layer)"
   ]
  },
  {
   "cell_type": "code",
   "execution_count": 7,
   "metadata": {},
   "outputs": [
    {
     "name": "stdout",
     "output_type": "stream",
     "text": [
      "Model: \"model_1\"\n",
      "_________________________________________________________________\n",
      "Layer (type)                 Output Shape              Param #   \n",
      "=================================================================\n",
      "input_1 (InputLayer)         (None, 32, 32, 3)         0         \n",
      "_________________________________________________________________\n",
      "flatten_1 (Flatten)          (None, 3072)              0         \n",
      "_________________________________________________________________\n",
      "dense_1 (Dense)              (None, 200)               614600    \n",
      "_________________________________________________________________\n",
      "dense_2 (Dense)              (None, 150)               30150     \n",
      "_________________________________________________________________\n",
      "dense_3 (Dense)              (None, 10)                1510      \n",
      "=================================================================\n",
      "Total params: 646,260\n",
      "Trainable params: 646,260\n",
      "Non-trainable params: 0\n",
      "_________________________________________________________________\n"
     ]
    }
   ],
   "source": [
    "# summary of the model\n",
    "model.summary()"
   ]
  },
  {
   "cell_type": "markdown",
   "metadata": {},
   "source": [
    "## Training the model"
   ]
  },
  {
   "cell_type": "code",
   "execution_count": 8,
   "metadata": {},
   "outputs": [],
   "source": [
    "# using the Adam optimizer with learning rate 0.0005\n",
    "# optimizers are used to update the weights in NNs based on the gradient of the loss function.\n",
    "# the greater the learning rate, the larger the change in weights at each training step.\n",
    "# the training might be initial faster with large learning rate\n",
    "# the result is less efficient and effective and we cannot get the minima of the loss function.\n",
    "# metrics parameter to specify the matrics or the training parameters like accuracy during the training process.\n",
    "opt = Adam(lr=0.0005)\n",
    "model.compile(loss='categorical_crossentropy', optimizer=opt, metrics=['accuracy'])"
   ]
  },
  {
   "cell_type": "code",
   "execution_count": 9,
   "metadata": {},
   "outputs": [
    {
     "name": "stdout",
     "output_type": "stream",
     "text": [
      "Epoch 1/10\n",
      "50000/50000 [==============================] - 20s 401us/step - loss: 1.8476 - accuracy: 0.3332\n",
      "Epoch 2/10\n",
      "50000/50000 [==============================] - 19s 385us/step - loss: 1.6615 - accuracy: 0.4087\n",
      "Epoch 3/10\n",
      "50000/50000 [==============================] - 19s 381us/step - loss: 1.5929 - accuracy: 0.4314\n",
      "Epoch 4/10\n",
      "50000/50000 [==============================] - 19s 383us/step - loss: 1.5418 - accuracy: 0.4517\n",
      "Epoch 5/10\n",
      "50000/50000 [==============================] - 20s 407us/step - loss: 1.4981 - accuracy: 0.4654\n",
      "Epoch 6/10\n",
      "50000/50000 [==============================] - 19s 385us/step - loss: 1.4661 - accuracy: 0.4782\n",
      "Epoch 7/10\n",
      "50000/50000 [==============================] - 19s 382us/step - loss: 1.4372 - accuracy: 0.4904\n",
      "Epoch 8/10\n",
      "50000/50000 [==============================] - 20s 390us/step - loss: 1.4158 - accuracy: 0.4943\n",
      "Epoch 9/10\n",
      "50000/50000 [==============================] - 20s 392us/step - loss: 1.3903 - accuracy: 0.5038s\n",
      "Epoch 10/10\n",
      "50000/50000 [==============================] - 20s 391us/step - loss: 1.3712 - accuracy: 0.5127\n"
     ]
    },
    {
     "data": {
      "text/plain": [
       "<keras.callbacks.callbacks.History at 0x25dd5cfea48>"
      ]
     },
     "execution_count": 9,
     "metadata": {},
     "output_type": "execute_result"
    }
   ],
   "source": [
    "# model achieves the accuracy of 51.27%\n",
    "model.fit(x_train\n",
    "          , y_train\n",
    "          , batch_size=32\n",
    "          , epochs=10\n",
    "          , shuffle=True)"
   ]
  },
  {
   "cell_type": "markdown",
   "metadata": {},
   "source": [
    "## Model Evaluation on Test Set"
   ]
  },
  {
   "cell_type": "code",
   "execution_count": 10,
   "metadata": {},
   "outputs": [
    {
     "name": "stdout",
     "output_type": "stream",
     "text": [
      "10000/10000 [==============================] - 1s 113us/step\n"
     ]
    },
    {
     "data": {
      "text/plain": [
       "[1.4536994825363159, 0.48330000042915344]"
      ]
     },
     "execution_count": 10,
     "metadata": {},
     "output_type": "execute_result"
    }
   ],
   "source": [
    "# model predicts the test set with 48% accuracy\n",
    "model.evaluate(x_test, y_test)"
   ]
  },
  {
   "cell_type": "code",
   "execution_count": 11,
   "metadata": {},
   "outputs": [],
   "source": [
    "CLASSES = np.array(['airplane', 'automobile', 'bird', 'cat', 'deer', 'dog', 'frog', 'horse', 'ship', 'truck'])\n",
    "\n",
    "# argmax gives us the index of maximum value of 10 classes\n",
    "# axis = -1 tells to include result of all the classes\n",
    "preds = model.predict(x_test)\n",
    "preds_single = CLASSES[np.argmax(preds, axis = -1)]\n",
    "actual_single = CLASSES[np.argmax(y_test, axis = -1)]"
   ]
  },
  {
   "cell_type": "code",
   "execution_count": 12,
   "metadata": {},
   "outputs": [
    {
     "data": {
      "image/png": "[encoded data removed]",
      "text/plain": [
       "<Figure size 1080x216 with 10 Axes>"
      ]
     },
     "metadata": {
      "needs_background": "light"
     },
     "output_type": "display_data"
    }
   ],
   "source": [
    "n_to_show = 10\n",
    "# get ten random x_test dataset indexes of images\n",
    "indices = np.random.choice(range(len(x_test)), n_to_show)\n",
    "\n",
    "# hspace: the amount of width reserved for space between subplots\n",
    "# wspace: the amount of height reserved for space between subplots\n",
    "fig = plt.figure(figsize=(15, 3))\n",
    "fig.subplots_adjust(hspace=0.4, wspace=0.4)\n",
    "\n",
    "# ax.text : add text to an arbitrary location of an axis.\n",
    "# Transform from axes coords to display coords using transAxes\n",
    "for i, idx in enumerate(indices):\n",
    "    img = x_test[idx]\n",
    "    ax = fig.add_subplot(1, n_to_show, i+1)\n",
    "    ax.axis('off')\n",
    "    ax.text(0.5, -0.35, 'pred = ' + str(preds_single[idx]), fontsize=10, ha='center', transform=ax.transAxes) \n",
    "    ax.text(0.5, -0.7, 'act = ' + str(actual_single[idx]), fontsize=10, ha='center', transform=ax.transAxes)\n",
    "    ax.imshow(img)"
   ]
  }
 ],
 "metadata": {
  "kernelspec": {
   "display_name": "Python 3",
   "language": "python",
   "name": "python3"
  },
  "language_info": {
   "codemirror_mode": {
    "name": "ipython",
    "version": 3
   },
   "file_extension": ".py",
   "mimetype": "text/x-python",
   "name": "python",
   "nbconvert_exporter": "python",
   "pygments_lexer": "ipython3",
   "version": "3.7.4"
  }
 },
 "nbformat": 4,
 "nbformat_minor": 2
}
