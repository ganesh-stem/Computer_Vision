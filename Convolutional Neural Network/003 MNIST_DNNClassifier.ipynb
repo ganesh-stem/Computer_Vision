{
  "nbformat": 4,
  "nbformat_minor": 0,
  "metadata": {
    "colab": {
      "name": "MNIST_DNNClassifier.ipynb",
      "provenance": [],
      "collapsed_sections": []
    },
    "kernelspec": {
      "name": "python3",
      "display_name": "Python 3"
    }
  },
  "cells": [
    {
      "cell_type": "code",
      "metadata": {
        "id": "2CWa00OXn_5s"
      },
      "source": [
        "# import the necessary libraries\r\n",
        "import numpy as np\r\n",
        "import pandas as pd\r\n",
        "import matplotlib.pyplot as plt\r\n",
        "import keras\r\n",
        "from keras import layers"
      ],
      "execution_count": 36,
      "outputs": []
    },
    {
      "cell_type": "code",
      "metadata": {
        "id": "EF91uX-boA67"
      },
      "source": [
        "mnist_dataset = keras.datasets.fashion_mnist\r\n",
        "(X_train, y_train), (X_test, y_test) = mnist_dataset.load_data()"
      ],
      "execution_count": 37,
      "outputs": []
    },
    {
      "cell_type": "code",
      "metadata": {
        "colab": {
          "base_uri": "https://localhost:8080/"
        },
        "id": "C4qYbViRoA_w",
        "outputId": "c490f769-dd76-4a6c-be3f-c926e580730b"
      },
      "source": [
        "print(\"X_train Shape\", X_train.shape)\r\n",
        "print(\"X_test Shape\", X_test.shape)\r\n",
        "print(\"y_train Shape\", X_train.shape)\r\n",
        "print(\"y_train Shape\", X_train.shape)\r\n",
        "print(\"X_train datatype\", X_train.dtype)"
      ],
      "execution_count": 38,
      "outputs": [
        {
          "output_type": "stream",
          "text": [
            "X_train Shape (60000, 28, 28)\n",
            "X_test Shape (10000, 28, 28)\n",
            "y_train Shape (60000, 28, 28)\n",
            "y_train Shape (60000, 28, 28)\n",
            "X_train datatype uint8\n"
          ],
          "name": "stdout"
        }
      ]
    },
    {
      "cell_type": "code",
      "metadata": {
        "id": "Q0rgAVYjoBDW"
      },
      "source": [
        "clothes = np.array([\"T-shirt/top\", \"Trouser\", \"Pullover\", \"Dress\", \"Coat\", \"Sandal\", \"Shirt\", \"Sneaker\", \"Bag\", \"Ankle boot\"])"
      ],
      "execution_count": 39,
      "outputs": []
    },
    {
      "cell_type": "code",
      "metadata": {
        "id": "YajKofEJoBGp",
        "colab": {
          "base_uri": "https://localhost:8080/"
        },
        "outputId": "4f6f62ef-742d-4a77-c36a-016d8841f04c"
      },
      "source": [
        "y_train[1], clothes[y_train[1]]"
      ],
      "execution_count": 40,
      "outputs": [
        {
          "output_type": "execute_result",
          "data": {
            "text/plain": [
              "(0, 'T-shirt/top')"
            ]
          },
          "metadata": {
            "tags": []
          },
          "execution_count": 40
        }
      ]
    },
    {
      "cell_type": "code",
      "metadata": {
        "colab": {
          "base_uri": "https://localhost:8080/",
          "height": 265
        },
        "id": "UiYnEbuauf3f",
        "outputId": "bf64bbcd-a836-40ff-b965-8b168ef16da0"
      },
      "source": [
        "plt.imshow(X_train[1])\r\n",
        "plt.show()"
      ],
      "execution_count": 41,
      "outputs": [
        {
          "output_type": "display_data",
          "data": {
            "image/png": "[encoded data removed]",
            "text/plain": [
              "<Figure size 432x288 with 1 Axes>"
            ]
          },
          "metadata": {
            "tags": [],
            "needs_background": "light"
          }
        }
      ]
    },
    {
      "cell_type": "code",
      "metadata": {
        "id": "6crTsnH6uf7o"
      },
      "source": [
        ""
      ],
      "execution_count": 41,
      "outputs": []
    },
    {
      "cell_type": "code",
      "metadata": {
        "colab": {
          "base_uri": "https://localhost:8080/",
          "height": 265
        },
        "id": "X4YmPhWxvA89",
        "outputId": "8fdda29b-e6d5-4fcc-f7b1-31dcc5843b6b"
      },
      "source": [
        "plt.imshow(X_train[1], cmap=plt.cm.binary)\r\n",
        "plt.show()"
      ],
      "execution_count": 42,
      "outputs": [
        {
          "output_type": "display_data",
          "data": {
            "image/png": "[encoded data removed]",
            "text/plain": [
              "<Figure size 432x288 with 1 Axes>"
            ]
          },
          "metadata": {
            "tags": [],
            "needs_background": "light"
          }
        }
      ]
    },
    {
      "cell_type": "code",
      "metadata": {
        "id": "daBddo7duf-d"
      },
      "source": [
        "model = keras.models.Sequential()"
      ],
      "execution_count": 43,
      "outputs": []
    },
    {
      "cell_type": "code",
      "metadata": {
        "id": "OiTHCtXOx7Z0"
      },
      "source": [
        "model.add(layers.Flatten(input_shape=[28, 28], name='input'))"
      ],
      "execution_count": 44,
      "outputs": []
    },
    {
      "cell_type": "code",
      "metadata": {
        "id": "u41spVaCugCJ"
      },
      "source": [
        "model.add(layers.BatchNormalization())\r\n",
        "model.add(layers.Dense(300, activation='elu', kernel_initializer=\"he_normal\", name=\"hidden_one\"))\r\n",
        "model.add(layers.BatchNormalization())\r\n",
        "model.add(layers.Dense(100, activation='elu', kernel_initializer=\"he_normal\", name=\"hidden_two\"))\r\n",
        "model.add(layers.BatchNormalization())\r\n",
        "model.add(layers.Dense(10, activation='softmax', name='output'))"
      ],
      "execution_count": 45,
      "outputs": []
    },
    {
      "cell_type": "code",
      "metadata": {
        "colab": {
          "base_uri": "https://localhost:8080/"
        },
        "id": "B02ZVRAougEg",
        "outputId": "727094ac-872f-4c6b-b291-fb38c7a54926"
      },
      "source": [
        "model.summary()"
      ],
      "execution_count": 46,
      "outputs": [
        {
          "output_type": "stream",
          "text": [
            "Model: \"sequential_2\"\n",
            "_________________________________________________________________\n",
            "Layer (type)                 Output Shape              Param #   \n",
            "=================================================================\n",
            "input (Flatten)              (None, 784)               0         \n",
            "_________________________________________________________________\n",
            "batch_normalization_6 (Batch (None, 784)               3136      \n",
            "_________________________________________________________________\n",
            "hidden_one (Dense)           (None, 300)               235500    \n",
            "_________________________________________________________________\n",
            "batch_normalization_7 (Batch (None, 300)               1200      \n",
            "_________________________________________________________________\n",
            "hidden_two (Dense)           (None, 100)               30100     \n",
            "_________________________________________________________________\n",
            "batch_normalization_8 (Batch (None, 100)               400       \n",
            "_________________________________________________________________\n",
            "output (Dense)               (None, 10)                1010      \n",
            "=================================================================\n",
            "Total params: 271,346\n",
            "Trainable params: 268,978\n",
            "Non-trainable params: 2,368\n",
            "_________________________________________________________________\n"
          ],
          "name": "stdout"
        }
      ]
    },
    {
      "cell_type": "code",
      "metadata": {
        "colab": {
          "base_uri": "https://localhost:8080/"
        },
        "id": "tBlfWrQ2ugGj",
        "outputId": "3f816676-1e71-4890-e1b0-6d068fa05e15"
      },
      "source": [
        "model.layers"
      ],
      "execution_count": 47,
      "outputs": [
        {
          "output_type": "execute_result",
          "data": {
            "text/plain": [
              "[<tensorflow.python.keras.layers.core.Flatten at 0x7f96ab75a400>,\n",
              " <tensorflow.python.keras.layers.normalization_v2.BatchNormalization at 0x7f96a7662c50>,\n",
              " <tensorflow.python.keras.layers.core.Dense at 0x7f96a7662be0>,\n",
              " <tensorflow.python.keras.layers.normalization_v2.BatchNormalization at 0x7f96ab720208>,\n",
              " <tensorflow.python.keras.layers.core.Dense at 0x7f96a7663048>,\n",
              " <tensorflow.python.keras.layers.normalization_v2.BatchNormalization at 0x7f96a7718588>,\n",
              " <tensorflow.python.keras.layers.core.Dense at 0x7f96a7604828>]"
            ]
          },
          "metadata": {
            "tags": []
          },
          "execution_count": 47
        }
      ]
    },
    {
      "cell_type": "code",
      "metadata": {
        "id": "YLZb-3tWoBKz"
      },
      "source": [
        "optim = keras.optimizers.SGD(lr= 0.01, momentum=0.9, nesterov=True)\r\n",
        "model.compile(loss='sparse_categorical_crossentropy', optimizer=optim, metrics=['accuracy'])"
      ],
      "execution_count": 49,
      "outputs": []
    },
    {
      "cell_type": "code",
      "metadata": {
        "id": "lwvW14SHoBOq",
        "colab": {
          "base_uri": "https://localhost:8080/"
        },
        "outputId": "d6cd66ec-bdc3-4743-ce3d-f588d0ac7600"
      },
      "source": [
        "# Create checkpoint to save model at the end of each epoch\r\n",
        "checkpoint_cb = keras.callbacks.ModelCheckpoint(\"MNIST_DNN_ClassifierModel.h5\", save_best_only=True)\r\n",
        "\r\n",
        "# Create early stopping checkpoint\r\n",
        "early_stopping_cb = keras.callbacks.EarlyStopping(patience=10, restore_best_weights=True)\r\n",
        "\r\n",
        "history = model.fit(X_train, y_train, epochs=20, validation_split=5/60, callbacks=[checkpoint_cb, early_stopping_cb])"
      ],
      "execution_count": 55,
      "outputs": [
        {
          "output_type": "stream",
          "text": [
            "Epoch 1/20\n",
            "1719/1719 [==============================] - 12s 7ms/step - loss: 0.3646 - accuracy: 0.8664 - val_loss: 0.3181 - val_accuracy: 0.8774\n",
            "Epoch 2/20\n",
            "1719/1719 [==============================] - 11s 7ms/step - loss: 0.3325 - accuracy: 0.8772 - val_loss: 0.3254 - val_accuracy: 0.8754\n",
            "Epoch 3/20\n",
            "1719/1719 [==============================] - 11s 7ms/step - loss: 0.3077 - accuracy: 0.8854 - val_loss: 0.3207 - val_accuracy: 0.8752\n",
            "Epoch 4/20\n",
            "1719/1719 [==============================] - 11s 6ms/step - loss: 0.2892 - accuracy: 0.8923 - val_loss: 0.3094 - val_accuracy: 0.8832\n",
            "Epoch 5/20\n",
            "1719/1719 [==============================] - 11s 6ms/step - loss: 0.2735 - accuracy: 0.8993 - val_loss: 0.3048 - val_accuracy: 0.8890\n",
            "Epoch 6/20\n",
            "1719/1719 [==============================] - 11s 6ms/step - loss: 0.2588 - accuracy: 0.9026 - val_loss: 0.3117 - val_accuracy: 0.8876\n",
            "Epoch 7/20\n",
            "1719/1719 [==============================] - 11s 6ms/step - loss: 0.2463 - accuracy: 0.9088 - val_loss: 0.3061 - val_accuracy: 0.8896\n",
            "Epoch 8/20\n",
            "1719/1719 [==============================] - 11s 6ms/step - loss: 0.2386 - accuracy: 0.9105 - val_loss: 0.3114 - val_accuracy: 0.8880\n",
            "Epoch 9/20\n",
            "1719/1719 [==============================] - 11s 6ms/step - loss: 0.2233 - accuracy: 0.9178 - val_loss: 0.3000 - val_accuracy: 0.8912\n",
            "Epoch 10/20\n",
            "1719/1719 [==============================] - 11s 6ms/step - loss: 0.2152 - accuracy: 0.9200 - val_loss: 0.3030 - val_accuracy: 0.8912\n",
            "Epoch 11/20\n",
            "1719/1719 [==============================] - 11s 6ms/step - loss: 0.2069 - accuracy: 0.9221 - val_loss: 0.3104 - val_accuracy: 0.8910\n",
            "Epoch 12/20\n",
            "1719/1719 [==============================] - 11s 6ms/step - loss: 0.2007 - accuracy: 0.9253 - val_loss: 0.3165 - val_accuracy: 0.8892\n",
            "Epoch 13/20\n",
            "1719/1719 [==============================] - 11s 6ms/step - loss: 0.1916 - accuracy: 0.9287 - val_loss: 0.3320 - val_accuracy: 0.8914\n",
            "Epoch 14/20\n",
            "1719/1719 [==============================] - 11s 6ms/step - loss: 0.1852 - accuracy: 0.9304 - val_loss: 0.3315 - val_accuracy: 0.8878\n",
            "Epoch 15/20\n",
            "1719/1719 [==============================] - 11s 6ms/step - loss: 0.1787 - accuracy: 0.9322 - val_loss: 0.3207 - val_accuracy: 0.8888\n",
            "Epoch 16/20\n",
            "1719/1719 [==============================] - 11s 6ms/step - loss: 0.1730 - accuracy: 0.9354 - val_loss: 0.3295 - val_accuracy: 0.8910\n",
            "Epoch 17/20\n",
            "1719/1719 [==============================] - 11s 6ms/step - loss: 0.1674 - accuracy: 0.9372 - val_loss: 0.3353 - val_accuracy: 0.8880\n",
            "Epoch 18/20\n",
            "1719/1719 [==============================] - 12s 7ms/step - loss: 0.1598 - accuracy: 0.9395 - val_loss: 0.3265 - val_accuracy: 0.8986\n",
            "Epoch 19/20\n",
            "1719/1719 [==============================] - 12s 7ms/step - loss: 0.1566 - accuracy: 0.9405 - val_loss: 0.3303 - val_accuracy: 0.8928\n"
          ],
          "name": "stdout"
        }
      ]
    },
    {
      "cell_type": "code",
      "metadata": {
        "id": "XQwpr_UMoBR7",
        "colab": {
          "base_uri": "https://localhost:8080/"
        },
        "outputId": "bf30147b-3062-4609-8c5d-bb2eb00ee533"
      },
      "source": [
        "model.evaluate(X_test, y_test)"
      ],
      "execution_count": 56,
      "outputs": [
        {
          "output_type": "stream",
          "text": [
            "313/313 [==============================] - 1s 2ms/step - loss: 0.3461 - accuracy: 0.8893\n"
          ],
          "name": "stdout"
        },
        {
          "output_type": "execute_result",
          "data": {
            "text/plain": [
              "[0.34614330530166626, 0.8892999887466431]"
            ]
          },
          "metadata": {
            "tags": []
          },
          "execution_count": 56
        }
      ]
    },
    {
      "cell_type": "code",
      "metadata": {
        "id": "dwITUhlFoBVk",
        "colab": {
          "base_uri": "https://localhost:8080/"
        },
        "outputId": "52bb3b6e-5ad8-450d-d0e9-a3053beef46f"
      },
      "source": [
        "X_new = X_test[:5]\r\n",
        "y_pred = model.predict(X_new)\r\n",
        "y_pred"
      ],
      "execution_count": 57,
      "outputs": [
        {
          "output_type": "execute_result",
          "data": {
            "text/plain": [
              "array([[1.6694289e-09, 1.0780114e-07, 3.8517825e-08, 6.9746108e-08,\n",
              "        5.9785719e-08, 1.8756379e-03, 1.3204388e-08, 1.4116700e-03,\n",
              "        4.0790448e-07, 9.9671209e-01],\n",
              "       [2.1285008e-04, 2.8373782e-11, 9.9876785e-01, 7.8634681e-09,\n",
              "        8.1759848e-04, 3.3468329e-08, 2.0156681e-04, 2.2547235e-08,\n",
              "        1.7855137e-10, 1.5691489e-09],\n",
              "       [1.1303265e-05, 9.9995327e-01, 1.9425459e-06, 1.9830195e-06,\n",
              "        1.2876047e-06, 2.2674358e-07, 2.8268539e-06, 1.6018815e-08,\n",
              "        2.7055428e-05, 3.7373784e-09],\n",
              "       [3.2163240e-07, 9.9997628e-01, 4.9796562e-08, 1.2152358e-05,\n",
              "        1.6365415e-06, 5.4343632e-06, 3.9655647e-06, 4.6928403e-09,\n",
              "        4.3649759e-08, 3.2347913e-08],\n",
              "       [3.8116890e-01, 1.2393413e-07, 9.7817900e-03, 2.7322595e-04,\n",
              "        1.2134988e-03, 5.5871857e-07, 6.0755950e-01, 7.9274280e-08,\n",
              "        2.0837774e-06, 1.5982521e-07]], dtype=float32)"
            ]
          },
          "metadata": {
            "tags": []
          },
          "execution_count": 57
        }
      ]
    },
    {
      "cell_type": "code",
      "metadata": {
        "colab": {
          "base_uri": "https://localhost:8080/"
        },
        "id": "pLusAs0G3Z_E",
        "outputId": "f2613e12-a303-4417-f508-f055673cb103"
      },
      "source": [
        "y_pred = np.argmax(model.predict(X_new), axis=-1)\r\n",
        "print('actual values', y_test)\r\n",
        "print('predicted values', y_pred)\r\n",
        "clothes[y_pred[:]]"
      ],
      "execution_count": 58,
      "outputs": [
        {
          "output_type": "stream",
          "text": [
            "actual values [9 2 1 ... 8 1 5]\n",
            "predicted values [9 2 1 1 6]\n"
          ],
          "name": "stdout"
        },
        {
          "output_type": "execute_result",
          "data": {
            "text/plain": [
              "array(['Ankle boot', 'Pullover', 'Trouser', 'Trouser', 'Shirt'],\n",
              "      dtype='<U11')"
            ]
          },
          "metadata": {
            "tags": []
          },
          "execution_count": 58
        }
      ]
    },
    {
      "cell_type": "code",
      "metadata": {
        "id": "IeVa-x383aGl"
      },
      "source": [
        "# Saving and restoring the model\r\n",
        "model.save('keras_classifier_model.h5')"
      ],
      "execution_count": 66,
      "outputs": []
    },
    {
      "cell_type": "code",
      "metadata": {
        "id": "3Q4JbUcB3aJ-"
      },
      "source": [
        "model = keras.models.load_model('keras_classifier_model.h5')"
      ],
      "execution_count": 68,
      "outputs": []
    },
    {
      "cell_type": "code",
      "metadata": {
        "colab": {
          "base_uri": "https://localhost:8080/"
        },
        "id": "SPBHnsBb3aOA",
        "outputId": "b6b4e2cf-d39c-4c8f-e733-b9982eca58b9"
      },
      "source": [
        "\"\"\"import os\r\n",
        "cwd = os.getcwd()\r\n",
        "print(cwd)\"\"\""
      ],
      "execution_count": 64,
      "outputs": [
        {
          "output_type": "stream",
          "text": [
            "/content\n"
          ],
          "name": "stdout"
        }
      ]
    }
  ]
}